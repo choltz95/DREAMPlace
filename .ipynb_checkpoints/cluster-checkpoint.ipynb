{
 "cells": [
  {
   "cell_type": "code",
   "execution_count": null,
   "metadata": {},
   "outputs": [],
   "source": [
    "import numpy as np\n",
    "import pandas as pd\n",
    "import pickle\n",
    "from tqdm import tqdm_notebook as tqdm\n",
    "from joblib import Parallel\n"
   ]
  },
  {
   "cell_type": "code",
   "execution_count": null,
   "metadata": {},
   "outputs": [],
   "source": [
    "db = pickle.load(open( \"db.pkl\", \"rb\" ))"
   ]
  },
  {
   "cell_type": "code",
   "execution_count": null,
   "metadata": {},
   "outputs": [],
   "source": [
    "placement_hist = pickle.load(open(\"plot_hist.pkl\",\"rb\"))"
   ]
  },
  {
   "cell_type": "code",
   "execution_count": null,
   "metadata": {},
   "outputs": [],
   "source": [
    "db.num_physical_nodes + db.num_filler_nodes"
   ]
  },
  {
   "cell_type": "code",
   "execution_count": null,
   "metadata": {},
   "outputs": [],
   "source": [
    "# first n nodes are physical. Last are filler.\n",
    "# placement_hist is a list of [x:y] positions"
   ]
  },
  {
   "cell_type": "code",
   "execution_count": null,
   "metadata": {},
   "outputs": [],
   "source": [
    "from draw_place import DrawPlace"
   ]
  },
  {
   "cell_type": "code",
   "execution_count": null,
   "metadata": {},
   "outputs": [],
   "source": [
    "d = DrawPlace(db)"
   ]
  },
  {
   "cell_type": "code",
   "execution_count": null,
   "metadata": {},
   "outputs": [],
   "source": [
    "d.forward(placement_hist[0],'test.png')"
   ]
  },
  {
   "cell_type": "code",
   "execution_count": null,
   "metadata": {},
   "outputs": [],
   "source": [
    "placement_hist[100]"
   ]
  },
  {
   "cell_type": "code",
   "execution_count": null,
   "metadata": {},
   "outputs": [],
   "source": [
    "id2name = {v: k for k, v in db.node_name2id_map.items()}"
   ]
  },
  {
   "cell_type": "code",
   "execution_count": null,
   "metadata": {},
   "outputs": [],
   "source": [
    "# too slow\n",
    "placement_hist_dfs = []\n",
    "for i in tqdm(range(db.num_nodes)):\n",
    "    xpos = []\n",
    "    ypos = []\n",
    "    placement_df = pd.DataFrame(columns=['id','x','y'])\n",
    "    id_col = [id2name[i]]*len(placement_hist)\n",
    "    for placement in placement_hist:\n",
    "        xpos.append(placement[i])\n",
    "        ypos.append(placement[db.num_nodes + i])\n",
    "    placement_df['id'] = id_col\n",
    "    placement_df['x'] = xpos\n",
    "    placement_df['y'] = ypos\n",
    "    placement_hist_dfs.append(placement_df)\n",
    "    \n",
    "placement_hist_df = pd.concatenate(placement_hist_dfs)"
   ]
  },
  {
   "cell_type": "code",
   "execution_count": null,
   "metadata": {},
   "outputs": [],
   "source": [
    "np.stack(placement_hist).shape"
   ]
  },
  {
   "cell_type": "code",
   "execution_count": null,
   "metadata": {},
   "outputs": [],
   "source": [
    "np.stack(placement_hist)[:,1]"
   ]
  },
  {
   "cell_type": "code",
   "execution_count": null,
   "metadata": {},
   "outputs": [],
   "source": [
    "placement_mat = np.stack(placement_hist)\n",
    "for i in tqdm(range(db.num_nodes)):\n",
    "    placement_df = pd.DataFrame(columns=['id','x','y'])\n",
    "    id_col = [id2name[i]]*len(placement_hist)\n",
    "    xpos = placement_mat[:,i]\n",
    "    ypos = placement_mat[:,db.num_nodes + i]\n",
    "    placement_df['id'] = id_col\n",
    "    placement_df['x'] = xpos\n",
    "    placement_df['y'] = ypos\n",
    "    placement_hist_dfs.append(placement_df)\n",
    "    \n",
    "placement_hist_df = pd.concatenate(placement_hist_dfs)"
   ]
  },
  {
   "cell_type": "code",
   "execution_count": null,
   "metadata": {},
   "outputs": [],
   "source": []
  }
 ],
 "metadata": {
  "kernelspec": {
   "display_name": "Python 3",
   "language": "python",
   "name": "python3"
  },
  "language_info": {
   "codemirror_mode": {
    "name": "ipython",
    "version": 3
   },
   "file_extension": ".py",
   "mimetype": "text/x-python",
   "name": "python",
   "nbconvert_exporter": "python",
   "pygments_lexer": "ipython3",
   "version": "3.7.3"
  }
 },
 "nbformat": 4,
 "nbformat_minor": 2
}
